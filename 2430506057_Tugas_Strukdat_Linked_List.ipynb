{
  "nbformat": 4,
  "nbformat_minor": 0,
  "metadata": {
    "colab": {
      "provenance": [],
      "authorship_tag": "ABX9TyNO9hkzCL/CO0iW7JUNzaba",
      "include_colab_link": true
    },
    "kernelspec": {
      "name": "python3",
      "display_name": "Python 3"
    },
    "language_info": {
      "name": "python"
    }
  },
  "cells": [
    {
      "cell_type": "markdown",
      "metadata": {
        "id": "view-in-github",
        "colab_type": "text"
      },
      "source": [
        "<a href=\"https://colab.research.google.com/github/ZurichSabil/P.STRUKTUR-DATA-SMT2-TIF/blob/main/2430506057_Tugas_Strukdat_Linked_List.ipynb\" target=\"_parent\"><img src=\"https://colab.research.google.com/assets/colab-badge.svg\" alt=\"Open In Colab\"/></a>"
      ]
    },
    {
      "cell_type": "code",
      "execution_count": null,
      "metadata": {
        "colab": {
          "base_uri": "https://localhost:8080/"
        },
        "id": "PRnavvIKeHqI",
        "outputId": "9384d36d-3689-4a16-a694-1d830fac59ca"
      },
      "outputs": [
        {
          "output_type": "stream",
          "name": "stdout",
          "text": [
            "Masukkan nama satpam ke-1: Farrel Apriandy Ciu\n",
            "Masukkan nama satpam ke-2: Zurich Sabil\n",
            "Masukkan nama satpam ke-3: Nabila Syafiqah Zahran Firlina\n",
            "Masukkan nama satpam ke-4: Erlyn Nur Rizqi Maulidya\n",
            "\n",
            "📅 Jadwal Piket Satpam Selama 2 Minggu:\n",
            "\n",
            "Hari 1: Farrel Apriandy Ciu\n",
            "Hari 2: Erlyn Nur Rizqi Maulidya\n",
            "Hari 3: Nabila Syafiqah Zahran Firlina\n",
            "Hari 4: Zurich Sabil\n",
            "Hari 5: Farrel Apriandy Ciu\n",
            "Hari 6: Erlyn Nur Rizqi Maulidya\n",
            "Hari 7: Nabila Syafiqah Zahran Firlina\n",
            "Hari 8: Zurich Sabil\n",
            "Hari 9: Farrel Apriandy Ciu\n",
            "Hari 10: Erlyn Nur Rizqi Maulidya\n",
            "Hari 11: Nabila Syafiqah Zahran Firlina\n",
            "Hari 12: Zurich Sabil\n",
            "Hari 13: Farrel Apriandy Ciu\n",
            "Hari 14: Erlyn Nur Rizqi Maulidya\n"
          ]
        }
      ],
      "source": [
        "class Node:\n",
        "    def __init__(self, name):\n",
        "        self.name = name\n",
        "        self.next = None\n",
        "\n",
        "class CircularLinkedList:\n",
        "    def __init__(self):\n",
        "        self.head = None\n",
        "\n",
        "    def append(self, name):\n",
        "        new_node = Node(name)\n",
        "        if not self.head:\n",
        "            self.head = new_node\n",
        "            self.head.next = self.head\n",
        "        else:\n",
        "            temp = self.head\n",
        "            while temp.next != self.head:\n",
        "                temp = temp.next\n",
        "            temp.next = new_node\n",
        "            new_node.next = self.head\n",
        "\n",
        "    def print_schedule(self, days=14):\n",
        "        if not self.head:\n",
        "            print(\"Jadwal kosong.\")\n",
        "            return\n",
        "\n",
        "        temp = self.head\n",
        "        for day in range(1, days + 1):\n",
        "            print(f\"Hari {day}: {temp.name}\")\n",
        "            for _ in range(3):\n",
        "                temp = temp.next\n",
        "\n",
        "\n",
        "satpam_list = CircularLinkedList()\n",
        "for i in range(4):\n",
        "    name = input(f\"Masukkan nama satpam ke-{i+1}: \")\n",
        "    satpam_list.append(name)\n",
        "\n",
        "\n",
        "print(\"\\n\\U0001F4C5 Jadwal Piket Satpam Selama 2 Minggu:\\n\")\n",
        "satpam_list.print_schedule(14)"
      ]
    }
  ]
}