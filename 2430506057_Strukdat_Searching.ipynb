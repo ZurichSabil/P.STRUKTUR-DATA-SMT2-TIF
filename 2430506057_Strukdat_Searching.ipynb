{
  "nbformat": 4,
  "nbformat_minor": 0,
  "metadata": {
    "colab": {
      "provenance": [],
      "authorship_tag": "ABX9TyMHqUhmEQqsRdBsQAhqs/AN",
      "include_colab_link": true
    },
    "kernelspec": {
      "name": "python3",
      "display_name": "Python 3"
    },
    "language_info": {
      "name": "python"
    }
  },
  "cells": [
    {
      "cell_type": "markdown",
      "metadata": {
        "id": "view-in-github",
        "colab_type": "text"
      },
      "source": [
        "<a href=\"https://colab.research.google.com/github/ZurichSabil/P.STRUKTUR-DATA-SMT2-TIF/blob/main/2430506057_Strukdat_Searching.ipynb\" target=\"_parent\"><img src=\"https://colab.research.google.com/assets/colab-badge.svg\" alt=\"Open In Colab\"/></a>"
      ]
    },
    {
      "cell_type": "code",
      "execution_count": null,
      "metadata": {
        "colab": {
          "base_uri": "https://localhost:8080/"
        },
        "id": "pttoAx2DruIr",
        "outputId": "72655d31-6a00-4fa4-bad1-b5143fa27233"
      },
      "outputs": [
        {
          "output_type": "stream",
          "name": "stdout",
          "text": [
            "Masukkan 3 digit terakhir NPM Anda: 57\n",
            "Elemen ditemukan pada indeks 5\n"
          ]
        }
      ],
      "source": [
        "def linear_search(arr, target):\n",
        "    for i in range(len(arr)):\n",
        "        if arr[i] == target:\n",
        "            return i\n",
        "    return -1\n",
        "\n",
        "# Gantilah dengan angka acak dan NPM Anda\n",
        "arr = [12, 45, 78, 23, 56, 57, 34, 67, 90, 11]\n",
        "\n",
        "target = int(input(\"Masukkan 3 digit terakhir NPM Anda: \"))\n",
        "\n",
        "result = linear_search(arr, target)\n",
        "\n",
        "if result != -1:\n",
        "    print(f\"Elemen ditemukan pada indeks {result}\")\n",
        "else:\n",
        "    print(\"Elemen tidak ditemukan\")"
      ]
    },
    {
      "cell_type": "code",
      "source": [
        "def binary_search(arr, target):\n",
        "    low = 0\n",
        "    high = len(arr) - 1\n",
        "\n",
        "    while low <= high:\n",
        "        mid = (low + high) // 2\n",
        "        if arr[mid] == target:\n",
        "            return mid\n",
        "        elif arr[mid] < target:\n",
        "            low = mid + 1\n",
        "        else:\n",
        "            high = mid - 1\n",
        "\n",
        "    return -1\n",
        "\n",
        "# Gantilah dengan angka terurut dan tanggal lahir Anda (DDMM)\n",
        "arr = [1010, 1202, 1405, 1010, 2508, 3009, 311, 2412]\n",
        "\n",
        "target = int(input(\"Masukkan tanggal lahir Anda (DDMM): \"))\n",
        "\n",
        "result = binary_search(arr, target)\n",
        "\n",
        "if result != -1:\n",
        "    print(f\"Elemen ditemukan pada indeks {result}\")\n",
        "else:\n",
        "    print(\"Elemen tidak ditemukan\")"
      ],
      "metadata": {
        "colab": {
          "base_uri": "https://localhost:8080/"
        },
        "id": "c3-jqapWwqCJ",
        "outputId": "56a17ed7-39cc-4f2a-a31a-96735b04dcf0"
      },
      "execution_count": null,
      "outputs": [
        {
          "output_type": "stream",
          "name": "stdout",
          "text": [
            "Masukkan tanggal lahir Anda (DDMM): 1010\n",
            "Elemen ditemukan pada indeks 3\n"
          ]
        }
      ]
    },
    {
      "cell_type": "code",
      "source": [
        "import math\n",
        "\n",
        "def jump_search(arr, target):\n",
        "    n = len(arr)\n",
        "    step = int(math.sqrt(n))\n",
        "    prev = 0\n",
        "\n",
        "    while arr[min(step, n) - 1] < target:\n",
        "        prev = step\n",
        "        step += int(math.sqrt(n))\n",
        "        if prev >= n:\n",
        "            return -1\n",
        "\n",
        "    for i in range(prev, min(step, n)):\n",
        "        if arr[i] == target:\n",
        "            return i\n",
        "\n",
        "    return -1\n",
        "\n",
        "# Gantilah dengan daftar nama teman-teman Anda dalam urutan alfabet\n",
        "arr = [\"Abdi\", \"David\", \"Hammam\", \"Nabila\", \"Rayfal\", \"Sabil\", \"Yasa\", \"Zulfikar\"]\n",
        "\n",
        "target = input(\"Masukkan inisial nama Anda: \")\n",
        "\n",
        "result = jump_search(arr, target)\n",
        "\n",
        "if result != -1:\n",
        "    print(f\"Elemen ditemukan pada indeks {result}\")\n",
        "else:\n",
        "    print(\"Elemen tidak ditemukan\")"
      ],
      "metadata": {
        "colab": {
          "base_uri": "https://localhost:8080/"
        },
        "id": "gKPnoBMDw4VG",
        "outputId": "cc451f4f-c5ee-4d2a-b562-86ae2469d9c1"
      },
      "execution_count": null,
      "outputs": [
        {
          "output_type": "stream",
          "name": "stdout",
          "text": [
            "Masukkan inisial nama Anda: Sabil\n",
            "Elemen ditemukan pada indeks 5\n"
          ]
        }
      ]
    },
    {
      "cell_type": "code",
      "source": [],
      "metadata": {
        "id": "XDLcRnA-xPMx"
      },
      "execution_count": null,
      "outputs": []
    }
  ]
}