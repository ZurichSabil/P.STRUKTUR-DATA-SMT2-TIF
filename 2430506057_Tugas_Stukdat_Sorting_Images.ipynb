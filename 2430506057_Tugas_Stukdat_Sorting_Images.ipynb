{
  "nbformat": 4,
  "nbformat_minor": 0,
  "metadata": {
    "colab": {
      "provenance": [],
      "authorship_tag": "ABX9TyOck7Qltps9Ntnrk4K5989K",
      "include_colab_link": true
    },
    "kernelspec": {
      "name": "python3",
      "display_name": "Python 3"
    },
    "language_info": {
      "name": "python"
    }
  },
  "cells": [
    {
      "cell_type": "markdown",
      "metadata": {
        "id": "view-in-github",
        "colab_type": "text"
      },
      "source": [
        "<a href=\"https://colab.research.google.com/github/ZurichSabil/P.STRUKTUR-DATA-SMT2-TIF/blob/main/2430506057_Tugas_Stukdat_Sorting_Images.ipynb\" target=\"_parent\"><img src=\"https://colab.research.google.com/assets/colab-badge.svg\" alt=\"Open In Colab\"/></a>"
      ]
    },
    {
      "cell_type": "code",
      "execution_count": null,
      "metadata": {
        "colab": {
          "base_uri": "https://localhost:8080/"
        },
        "id": "mQ1F-lpV9W1N",
        "outputId": "a5848354-c93f-4796-ea65-8b62f80452ca"
      },
      "outputs": [
        {
          "output_type": "stream",
          "name": "stdout",
          "text": [
            "Produk diurutkan berdasarkan harga (rendah ke tinggi):\n",
            "Roti Zaki - Rp20000 - Rating: 4.9\n",
            "Roti Gita - Rp30000 - Rating: 4.1\n",
            "Roti Rona - Rp50000 - Rating: 4.2\n",
            "Roti Linmas - Rp60000 - Rating: 4.6\n",
            "Roti Desi - Rp70000 - Rating: 4.8\n",
            "\n",
            "Produk diurutkan berdasarkan rating (rendah ke tinggi):\n",
            "Roti Gita - Rp30000 - Rating: 4.1\n",
            "Roti Rona - Rp50000 - Rating: 4.2\n",
            "Roti Linmas - Rp60000 - Rating: 4.6\n",
            "Roti Desi - Rp70000 - Rating: 4.8\n",
            "Roti Zaki - Rp20000 - Rating: 4.9\n"
          ]
        }
      ],
      "source": [
        "def bubble_sort(arr, key):\n",
        "    n = len(arr)\n",
        "    for i in range(n - 1):\n",
        "        for j in range(n - i - 1):\n",
        "            if arr[j][key] > arr[j + 1][key]:\n",
        "                arr[j], arr[j + 1] = arr[j + 1], arr[j]\n",
        "    return arr\n",
        "\n",
        "def selection_sort(arr, key):\n",
        "    n = len(arr)\n",
        "    for i in range(n - 1):\n",
        "        min_index = i\n",
        "        for j in range(i + 1, n):\n",
        "            if arr[j][key] < arr[min_index][key]:\n",
        "                min_index = j\n",
        "        arr[i], arr[min_index] = arr[min_index], arr[i]\n",
        "    return arr\n",
        "\n",
        "def insertion_sort(arr, key):\n",
        "    n = len(arr)\n",
        "    for i in range(1, n):\n",
        "        key_value = arr[i]\n",
        "        j = i - 1\n",
        "        while j >= 0 and arr[j][key] > key_value[key]:\n",
        "            arr[j + 1] = arr[j]\n",
        "            j -= 1\n",
        "        arr[j + 1] = key_value\n",
        "    return arr\n",
        "\n",
        "def merge_sort(arr, key):\n",
        "    if len(arr) > 1:\n",
        "        mid = len(arr) // 2\n",
        "        kiri = arr[:mid]\n",
        "        kanan = arr[mid:]\n",
        "\n",
        "        merge_sort(kiri, key)\n",
        "        merge_sort(kanan, key)\n",
        "\n",
        "        i = j = k = 0\n",
        "\n",
        "        while i < len(kiri) and j < len(kanan):\n",
        "            if kiri[i][key] < kanan[j][key]:\n",
        "                arr[k] = kiri[i]\n",
        "                i += 1\n",
        "            else:\n",
        "                arr[k] = kanan[j]\n",
        "                j += 1\n",
        "            k += 1\n",
        "\n",
        "        while i < len(kiri):\n",
        "            arr[k] = kiri[i]\n",
        "            i += 1\n",
        "            k += 1\n",
        "\n",
        "        while j < len(kanan):\n",
        "            arr[k] = kanan[j]\n",
        "            j += 1\n",
        "            k += 1\n",
        "    return arr\n",
        "\n",
        "def quick_sort(arr, key):\n",
        "    if len(arr) <= 1:\n",
        "        return arr\n",
        "\n",
        "    pivot = arr[len(arr) // 2]\n",
        "    kiri = [x for x in arr if x[key] < pivot[key]]\n",
        "    tengah = [x for x in arr if x[key] == pivot[key]]\n",
        "    kanan = [x for x in arr if x[key] > pivot[key]]\n",
        "\n",
        "    return quick_sort(kiri, key) + tengah + quick_sort(kanan, key)\n",
        "\n",
        "produk = [\n",
        "    {\"nama\": \"Roti Rona\", \"harga\": 50000, \"rating\": 4.2},\n",
        "    {\"nama\": \"Roti Gita\", \"harga\": 30000, \"rating\": 4.1},\n",
        "    {\"nama\": \"Roti Desi\", \"harga\": 70000, \"rating\": 4.8},\n",
        "    {\"nama\": \"Roti Zaki\", \"harga\": 20000, \"rating\": 4.9},\n",
        "    {\"nama\": \"Roti Linmas\", \"harga\": 60000, \"rating\": 4.6}\n",
        "]\n",
        "\n",
        "urut_harga = quick_sort(produk.copy(), \"harga\")\n",
        "urut_rating = quick_sort(produk.copy(), \"rating\")\n",
        "print(\"Produk diurutkan berdasarkan harga (rendah ke tinggi):\")\n",
        "for p in urut_harga:\n",
        "    print(f\"{p['nama']} - Rp{p['harga']} - Rating: {p['rating']}\")\n",
        "\n",
        "print(\"\\nProduk diurutkan berdasarkan rating (rendah ke tinggi):\")\n",
        "for p in urut_rating:\n",
        "    print(f\"{p['nama']} - Rp{p['harga']} - Rating: {p['rating']}\")\n",
        "\n",
        "\n"
      ]
    },
    {
      "cell_type": "code",
      "source": [],
      "metadata": {
        "id": "76FqaymW9XjN"
      },
      "execution_count": null,
      "outputs": []
    }
  ]
}