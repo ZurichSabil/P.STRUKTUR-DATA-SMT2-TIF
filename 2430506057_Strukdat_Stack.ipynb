{
  "nbformat": 4,
  "nbformat_minor": 0,
  "metadata": {
    "colab": {
      "provenance": [],
      "authorship_tag": "ABX9TyMPVZ3Py9FClkFz/xfPMoCG",
      "include_colab_link": true
    },
    "kernelspec": {
      "name": "python3",
      "display_name": "Python 3"
    },
    "language_info": {
      "name": "python"
    }
  },
  "cells": [
    {
      "cell_type": "markdown",
      "metadata": {
        "id": "view-in-github",
        "colab_type": "text"
      },
      "source": [
        "<a href=\"https://colab.research.google.com/github/ZurichSabil/P.STRUKTUR-DATA-SMT2-TIF/blob/main/2430506057_Strukdat_Stack.ipynb\" target=\"_parent\"><img src=\"https://colab.research.google.com/assets/colab-badge.svg\" alt=\"Open In Colab\"/></a>"
      ]
    },
    {
      "cell_type": "code",
      "execution_count": null,
      "metadata": {
        "colab": {
          "base_uri": "https://localhost:8080/"
        },
        "id": "269D_TaBxNWx",
        "outputId": "e43e6b29-f3bc-4c6f-cb49-1513dd374904"
      },
      "outputs": [
        {
          "output_type": "stream",
          "name": "stdout",
          "text": [
            "[5]\n"
          ]
        }
      ],
      "source": [
        "class Stack:\n",
        "    def __init__(self):\n",
        "        self.stack = []\n",
        "\n",
        "    def push(self, item):\n",
        "        self.stack.append(item)\n",
        "\n",
        "# Contoh penggunaan\n",
        "s = Stack()\n",
        "s.push(5)\n",
        "print(s.stack)  # Output: [5]"
      ]
    },
    {
      "cell_type": "code",
      "source": [
        "class Stack:\n",
        "    def __init__(self):\n",
        "        self.stack = []\n",
        "\n",
        "    def push(self, item):  # Tambahkan fungsi push\n",
        "        self.stack.append(item)\n",
        "\n",
        "    def pop(self):\n",
        "        if len(self.stack) == 0:\n",
        "            return \"Stack Kosong\"\n",
        "        return self.stack.pop()\n",
        "\n",
        "s = Stack()\n",
        "s.push(5)\n",
        "s.push(10)\n",
        "\n",
        "print(s.pop())  # Output: 10\n",
        "print(s.stack)  # Output: [5]"
      ],
      "metadata": {
        "colab": {
          "base_uri": "https://localhost:8080/"
        },
        "id": "vUtW_YkZ1k79",
        "outputId": "287c4b84-355e-4564-b6dc-be7a96b07452"
      },
      "execution_count": null,
      "outputs": [
        {
          "output_type": "stream",
          "name": "stdout",
          "text": [
            "10\n",
            "[5]\n"
          ]
        }
      ]
    },
    {
      "cell_type": "code",
      "source": [
        "class Stack:\n",
        "    def __init__(self):\n",
        "        self.stack = []\n",
        "\n",
        "    def push(self, item):  # Tambahkan fungsi push\n",
        "        self.stack.append(item)\n",
        "\n",
        "    def peek(self):\n",
        "        if len(self.stack) == 0:\n",
        "            return \"Stack Kosong\"\n",
        "        return self.stack[-1]\n",
        "\n",
        "# Contoh penggunaan\n",
        "s = Stack()\n",
        "s.push(5)\n",
        "s.push(10)\n",
        "\n",
        "print(s.peek())  # Output: 10\n",
        "print(s.stack)  # Output: [5, 10]"
      ],
      "metadata": {
        "colab": {
          "base_uri": "https://localhost:8080/"
        },
        "id": "XYfDYdBQ2AI2",
        "outputId": "28665c98-144c-48b7-9e35-deb75aa6f070"
      },
      "execution_count": null,
      "outputs": [
        {
          "output_type": "stream",
          "name": "stdout",
          "text": [
            "10\n",
            "[5, 10]\n"
          ]
        }
      ]
    },
    {
      "cell_type": "code",
      "source": [
        "class Stack:\n",
        "    def __init__(self):\n",
        "        self.stack = []\n",
        "\n",
        "    def push(self, item):  # Tambahkan fungsi push\n",
        "        self.stack.append(item)\n",
        "\n",
        "    def is_empty(self):\n",
        "        return len(self.stack) == 0\n",
        "\n",
        "# Contoh penggunaan\n",
        "s = Stack()\n",
        "print(s.is_empty())  # Output: True\n",
        "s.push(5)\n",
        "print(s.is_empty())  # Output: False"
      ],
      "metadata": {
        "colab": {
          "base_uri": "https://localhost:8080/"
        },
        "id": "s__diU8_1l_j",
        "outputId": "8b4f0765-876a-4fd8-ae37-10dd915962c0"
      },
      "execution_count": null,
      "outputs": [
        {
          "output_type": "stream",
          "name": "stdout",
          "text": [
            "True\n",
            "False\n"
          ]
        }
      ]
    },
    {
      "cell_type": "code",
      "source": [
        "class TextEditor:\n",
        "    def __init__(self):\n",
        "        self.history = []\n",
        "\n",
        "    def write(self, text):\n",
        "        self.history.append(text)\n",
        "\n",
        "    def undo(self):\n",
        "        if self.history:\n",
        "            return f\"Undo: Menghapus '{self.history.pop()}'\"\n",
        "        return \"Tidak ada yang bisa di-undo\"\n",
        "\n",
        "# Contoh Penggunaan\n",
        "editor = TextEditor()\n",
        "\n",
        "editor.write(\"Halo, ini teks pertama.\")\n",
        "editor.write(\"Ini teks kedua.\")\n",
        "editor.write(\"Ini teks ketiga.\")\n",
        "\n",
        "print(editor.undo())\n",
        "print(editor.undo())"
      ],
      "metadata": {
        "colab": {
          "base_uri": "https://localhost:8080/"
        },
        "id": "-7jjdQ2c2b-v",
        "outputId": "e150afef-51ed-4ffa-c97c-1b72b152fd1a"
      },
      "execution_count": null,
      "outputs": [
        {
          "output_type": "stream",
          "name": "stdout",
          "text": [
            "Undo: Menghapus 'Ini teks ketiga.'\n",
            "Undo: Menghapus 'Ini teks kedua.'\n"
          ]
        }
      ]
    },
    {
      "cell_type": "code",
      "source": [
        "from collections import deque\n",
        "\n",
        "class BrowserHistory:\n",
        "    def __init__(self):\n",
        "        self.history = deque()\n",
        "\n",
        "    def visit(self, url):\n",
        "        self.history.append(url)\n",
        "        print(f\"Mengunjungi: {url}\")\n",
        "\n",
        "    def back(self):\n",
        "        if self.history:\n",
        "            print(f\"Kembali ke: {self.history.pop()}\")\n",
        "        else:\n",
        "            print(\"Tidak ada riwayat!\")\n",
        "\n",
        "# Contoh Penggunaan\n",
        "browser = BrowserHistory()\n",
        "\n",
        "browser.visit(\"google.com\")\n",
        "browser.visit(\"youtube.com\")\n",
        "browser.visit(\"github.com\")\n",
        "\n",
        "browser.back()\n",
        "browser.back()"
      ],
      "metadata": {
        "colab": {
          "base_uri": "https://localhost:8080/"
        },
        "id": "jMB_X8nC262M",
        "outputId": "7187b44a-8eb2-46e1-fa7a-752c2d59e3b8"
      },
      "execution_count": null,
      "outputs": [
        {
          "output_type": "stream",
          "name": "stdout",
          "text": [
            "Mengunjungi: google.com\n",
            "Mengunjungi: youtube.com\n",
            "Mengunjungi: github.com\n",
            "Kembali ke: github.com\n",
            "Kembali ke: youtube.com\n"
          ]
        }
      ]
    },
    {
      "cell_type": "code",
      "source": [
        "from queue import LifoQueue\n",
        "\n",
        "class BackupSystem:\n",
        "    def __init__(self):\n",
        "        self.backups = LifoQueue()\n",
        "\n",
        "    def backup(self, version):\n",
        "        self.backups.put(version)\n",
        "\n",
        "    def latest_backup(self):\n",
        "        if not self.backups.empty():\n",
        "            return f\"Versi terbaru: {self.backups.queue[-1]}\"\n",
        "        return \"Tidak ada cadangan!\"\n",
        "\n",
        "# Contoh Penggunaan\n",
        "backup_system = BackupSystem()\n",
        "\n",
        "backup_system.backup(\"Backup_1\")\n",
        "backup_system.backup(\"Backup_2\")\n",
        "backup_system.backup(\"Backup_3\")\n",
        "\n",
        "print(backup_system.latest_backup())"
      ],
      "metadata": {
        "colab": {
          "base_uri": "https://localhost:8080/"
        },
        "id": "pkEjwNU927c6",
        "outputId": "eb490c84-2259-44e6-966b-c03a0b26173e"
      },
      "execution_count": null,
      "outputs": [
        {
          "output_type": "stream",
          "name": "stdout",
          "text": [
            "Versi terbaru: Backup_3\n"
          ]
        }
      ]
    },
    {
      "cell_type": "code",
      "source": [
        "class CustomerService:\n",
        "    def __init__(self):\n",
        "        self.tickets = []\n",
        "\n",
        "    def add_ticket(self, ticket):\n",
        "        self.tickets.append(ticket)\n",
        "\n",
        "    def process_ticket(self):\n",
        "        if not self.is_empty():\n",
        "            return f\"Memproses tiket: {self.tickets.pop()}\"\n",
        "        return \"Tidak ada tiket yang harus diproses.\"\n",
        "\n",
        "    def is_empty(self):\n",
        "        return len(self.tickets) == 0\n",
        "\n",
        "# Contoh Penggunaan\n",
        "service = CustomerService()\n",
        "\n",
        "service.add_ticket(\"Tiket 001\")\n",
        "service.add_ticket(\"Tiket 002\")\n",
        "\n",
        "print(service.process_ticket())\n",
        "print(service.is_empty())"
      ],
      "metadata": {
        "colab": {
          "base_uri": "https://localhost:8080/"
        },
        "id": "FE-NIJMK3HIO",
        "outputId": "89e27a78-e127-45e6-9ce1-67b10c87b77f"
      },
      "execution_count": null,
      "outputs": [
        {
          "output_type": "stream",
          "name": "stdout",
          "text": [
            "Memproses tiket: Tiket 002\n",
            "False\n"
          ]
        }
      ]
    },
    {
      "cell_type": "markdown",
      "source": [
        "LATIHAN **1**"
      ],
      "metadata": {
        "id": "-R7ai9Nc3v6B"
      }
    },
    {
      "cell_type": "code",
      "source": [
        "class Calculator:\n",
        "    def __init__(self, initial_value):\n",
        "        self.value = initial_value\n",
        "        self.history = []\n",
        "\n",
        "    def add(self, num):\n",
        "        self.history.append(self.value)\n",
        "        self.value += num\n",
        "\n",
        "    def subtract(self, num):\n",
        "        self.history.append(self.value)\n",
        "        self.value -= num\n",
        "\n",
        "    def multiply(self, num):\n",
        "        self.history.append(self.value)\n",
        "        self.value *= num\n",
        "\n",
        "    def divide(self, num):\n",
        "        if num != 0:\n",
        "            self.history.append(self.value)\n",
        "            self.value /= num\n",
        "        else:\n",
        "            print(\"Tidak bisa dibagi dengan nol.\")\n",
        "\n",
        "    def undo(self):\n",
        "        if self.history:\n",
        "            self.value = self.history.pop()\n",
        "            print(f\"Undo berhasil. Nilai saat ini: {self.value}\")\n",
        "        else:\n",
        "            print(\"Tidak ada operasi untuk di-undo.\")\n",
        "\n",
        "calculator = Calculator(25)\n",
        "\n",
        "calculator.add(10)\n",
        "print(f\"Setelah penambahan: {calculator.value}\")\n",
        "\n",
        "calculator.subtract(5)\n",
        "print(f\"Setelah pengurangan: {calculator.value}\")\n",
        "\n",
        "calculator.multiply(2)\n",
        "print(f\"Setelah perkalian: {calculator.value}\")\n",
        "\n",
        "calculator.undo()\n",
        "calculator.undo()\n",
        "calculator.undo()"
      ],
      "metadata": {
        "colab": {
          "base_uri": "https://localhost:8080/"
        },
        "id": "MZqTzNMp3PW0",
        "outputId": "cc6ca00f-5fcb-4b24-ce59-dcf21f8657c9"
      },
      "execution_count": null,
      "outputs": [
        {
          "output_type": "stream",
          "name": "stdout",
          "text": [
            "Setelah penambahan: 35\n",
            "Setelah pengurangan: 30\n",
            "Setelah perkalian: 60\n",
            "Undo berhasil. Nilai saat ini: 30\n",
            "Undo berhasil. Nilai saat ini: 35\n",
            "Undo berhasil. Nilai saat ini: 25\n"
          ]
        }
      ]
    },
    {
      "cell_type": "markdown",
      "source": [
        "LATIHAN **2**"
      ],
      "metadata": {
        "id": "hWvmoGSb8BWx"
      }
    },
    {
      "cell_type": "code",
      "source": [
        "from collections import deque\n",
        "\n",
        "class AppNavigation:\n",
        "    def __init__(self):\n",
        "        self.history = deque()\n",
        "\n",
        "    def visit_feature(self, feature_name):\n",
        "        self.history.append(feature_name)\n",
        "        print(f\"Mengunjungi fitur: {feature_name}\")\n",
        "\n",
        "    def back(self):\n",
        "        if len(self.history) > 1:\n",
        "            self.history.pop()\n",
        "            print(f\"Kembali ke fitur: {self.history[-1]}\")\n",
        "        else:\n",
        "            print(\"Tidak ada riwayat sebelumnya!\")\n",
        "\n",
        "\n",
        "def generate_feature_name(birth_month, npm_last_two):\n",
        "    return birth_month[0].upper() + npm_last_two\n",
        "\n",
        "app = AppNavigation()\n",
        "\n",
        "\n",
        "birth_month = \"Maret\"\n",
        "npm_last_two = \"45\"\n",
        "\n",
        "\n",
        "feature1 = generate_feature_name(birth_month, npm_last_two) + \"_Dashboard\"\n",
        "feature2 = generate_feature_name(birth_month, npm_last_two) + \"_Profile\"\n",
        "feature3 = generate_feature_name(birth_month, npm_last_two) + \"_Settings\"\n",
        "\n",
        "app.visit_feature(feature1)\n",
        "app.visit_feature(feature2)\n",
        "app.visit_feature(feature3)\n",
        "\n",
        "app.back()\n",
        "app.back()\n",
        "app.back()\n"
      ],
      "metadata": {
        "colab": {
          "base_uri": "https://localhost:8080/"
        },
        "id": "aE9MxH-D3yP6",
        "outputId": "43405fb8-1b11-4f73-8dda-1d129b75be23"
      },
      "execution_count": null,
      "outputs": [
        {
          "output_type": "stream",
          "name": "stdout",
          "text": [
            "Mengunjungi fitur: M45_Dashboard\n",
            "Mengunjungi fitur: M45_Profile\n",
            "Mengunjungi fitur: M45_Settings\n",
            "Kembali ke fitur: M45_Profile\n",
            "Kembali ke fitur: M45_Dashboard\n",
            "Tidak ada riwayat sebelumnya!\n"
          ]
        }
      ]
    },
    {
      "cell_type": "markdown",
      "source": [
        "LATIHAN **3**"
      ],
      "metadata": {
        "id": "yXnzbFlW-P84"
      }
    },
    {
      "cell_type": "code",
      "source": [
        "from queue import LifoQueue\n",
        "\n",
        "class SistemPenyimpananDraftEmail:\n",
        "    def __init__(self):\n",
        "        self.drafts = LifoQueue()\n",
        "\n",
        "    def simpan_draft(self, nama_mahasiswa, npm, konten):\n",
        "        \"\"\"Menyimpan draft email ke dalam Stack.\"\"\"\n",
        "        subjek = f\"{nama_mahasiswa[:2]}{npm[-2:]}\"\n",
        "        draft = {\"subjek\": subjek, \"konten\": konten}\n",
        "        self.drafts.put(draft)\n",
        "        print(f\"Draft email dengan subjek '{subjek}' disimpan.\")\n",
        "\n",
        "    def lihat_draft_terakhir(self):\n",
        "        \"\"\"Melihat draft email terakhir yang disimpan.\"\"\"\n",
        "        if not self.drafts.empty():\n",
        "            draft = self.drafts.queue[-1]\n",
        "            print(\"\\nDraft Email Terakhir:\")\n",
        "            print(f\"Subjek: {draft['subjek']}\")\n",
        "            print(f\"Konten: {draft['konten']}\")\n",
        "        else:\n",
        "            print(\"Tidak ada draft email yang tersimpan.\")\n",
        "\n",
        "sistem_email = SistemPenyimpananDraftEmail()\n",
        "\n",
        "sistem_email.simpan_draft(\"Budi Santoso\", \"12345678\", \"Isi email draft 1\")\n",
        "sistem_email.simpan_draft(\"Siti Aminah\", \"87654321\", \"Isi email draft 2\")\n",
        "sistem_email.simpan_draft(\"Joko Widodo\", \"13579086\", \"Isi email draft 3\")\n",
        "\n",
        "sistem_email.lihat_draft_terakhir()"
      ],
      "metadata": {
        "colab": {
          "base_uri": "https://localhost:8080/"
        },
        "id": "kLAkwd_j9URb",
        "outputId": "bf504703-f822-4f86-d8a6-f4ad767ac17e"
      },
      "execution_count": null,
      "outputs": [
        {
          "output_type": "stream",
          "name": "stdout",
          "text": [
            "Draft email dengan subjek 'Bu78' disimpan.\n",
            "Draft email dengan subjek 'Si21' disimpan.\n",
            "Draft email dengan subjek 'Jo86' disimpan.\n",
            "\n",
            "Draft Email Terakhir:\n",
            "Subjek: Jo86\n",
            "Konten: Isi email draft 3\n"
          ]
        }
      ]
    },
    {
      "cell_type": "markdown",
      "source": [
        "LATIHAN **4**"
      ],
      "metadata": {
        "id": "BxZ6GZ2p-xqB"
      }
    },
    {
      "cell_type": "code",
      "source": [
        "class SistemAntreanTiketBioskop:\n",
        "    def __init__(self):\n",
        "        self.tickets = []\n",
        "\n",
        "    def add_ticket(self, bulan_lahir, npm):\n",
        "        \"\"\"Menambahkan tiket berdasarkan huruf pertama bulan lahir + dua digit terakhir NPM.\"\"\"\n",
        "        nama_film = bulan_lahir[0].upper() + npm[-2:]\n",
        "        self.tickets.append(nama_film)\n",
        "        print(f\"Tiket untuk film '{nama_film}' telah dibeli.\")\n",
        "\n",
        "    def process_ticket(self):\n",
        "        \"\"\"Memproses tiket terakhir dalam antrean (LIFO).\"\"\"\n",
        "        if not self.is_empty():\n",
        "            return f\"Memproses tiket: {self.tickets.pop()}\"\n",
        "        return \"Tidak ada tiket yang harus diproses.\"\n",
        "\n",
        "    def is_empty(self):\n",
        "        \"\"\"Memeriksa apakah Stack kosong.\"\"\"\n",
        "        return len(self.tickets) == 0\n",
        "\n",
        "bioskop = SistemAntreanTiketBioskop()\n",
        "\n",
        "\n",
        "bioskop.add_ticket(\"Maret\", \"12345678\")\n",
        "bioskop.add_ticket(\"Juni\", \"87654321\")\n",
        "bioskop.add_ticket(\"Oktober\", \"13579086\")\n",
        "\n",
        "\n",
        "print(bioskop.process_ticket())\n",
        "print(bioskop.process_ticket())\n",
        "print(bioskop.process_ticket())\n",
        "print(bioskop.process_ticket())\n"
      ],
      "metadata": {
        "id": "_046wvd6-rpN",
        "colab": {
          "base_uri": "https://localhost:8080/"
        },
        "outputId": "37ed3a02-38a1-4de9-8edb-ae57cbf53ad5"
      },
      "execution_count": null,
      "outputs": [
        {
          "output_type": "stream",
          "name": "stdout",
          "text": [
            "Tiket untuk film 'M78' telah dibeli.\n",
            "Tiket untuk film 'J21' telah dibeli.\n",
            "Tiket untuk film 'O86' telah dibeli.\n",
            "Memproses tiket: O86\n",
            "Memproses tiket: J21\n",
            "Memproses tiket: M78\n",
            "Tidak ada tiket yang harus diproses.\n"
          ]
        }
      ]
    },
    {
      "cell_type": "code",
      "source": [],
      "metadata": {
        "id": "gvnBbXMCb89E"
      },
      "execution_count": null,
      "outputs": []
    }
  ]
}