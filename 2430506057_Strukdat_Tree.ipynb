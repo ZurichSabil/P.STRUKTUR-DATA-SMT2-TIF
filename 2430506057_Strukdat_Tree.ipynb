{
  "nbformat": 4,
  "nbformat_minor": 0,
  "metadata": {
    "colab": {
      "provenance": [],
      "include_colab_link": true
    },
    "kernelspec": {
      "name": "python3",
      "display_name": "Python 3"
    },
    "language_info": {
      "name": "python"
    }
  },
  "cells": [
    {
      "cell_type": "markdown",
      "metadata": {
        "id": "view-in-github",
        "colab_type": "text"
      },
      "source": [
        "<a href=\"https://colab.research.google.com/github/ZurichSabil/P.STRUKTUR-DATA-SMT2-TIF/blob/main/2430506057_Strukdat_Tree.ipynb\" target=\"_parent\"><img src=\"https://colab.research.google.com/assets/colab-badge.svg\" alt=\"Open In Colab\"/></a>"
      ]
    },
    {
      "cell_type": "code",
      "execution_count": null,
      "metadata": {
        "colab": {
          "base_uri": "https://localhost:8080/"
        },
        "id": "CX_5ZkX1PF7W",
        "outputId": "1d74a4a8-2e63-4183-a331-204aef9d989c"
      },
      "outputs": [
        {
          "output_type": "stream",
          "name": "stdout",
          "text": [
            "Hasil inorder traversal dari binary tree:\n",
            "4 2 5 1 3 "
          ]
        }
      ],
      "source": [
        "class Node:\n",
        "    def __init__(self, data):\n",
        "        self.data = data\n",
        "        self.left = None\n",
        "        self.right = None\n",
        "\n",
        "root = Node(1)\n",
        "root.left = Node(2)\n",
        "root.right = Node(3)\n",
        "root.left.left = Node(4)\n",
        "root.left.right = Node(5)\n",
        "\n",
        "def inorder(node):\n",
        "    if node:\n",
        "        inorder(node.left)\n",
        "        print(node.data, end=' ')\n",
        "        inorder(node.right)\n",
        "\n",
        "print(\"Hasil inorder traversal dari binary tree:\")\n",
        "inorder(root)\n"
      ]
    },
    {
      "cell_type": "code",
      "source": [
        "# Binary Search Tree (BST)\n",
        "\n",
        "# Membentuk struktur node\n",
        "class Node:\n",
        "    def __init__(self, data):\n",
        "        self.data = data\n",
        "        self.left = None\n",
        "        self.right = None\n",
        "\n",
        "# Implementasi BST\n",
        "class BinarySearchTree:\n",
        "    def __init__(self):\n",
        "        self.root = None\n",
        "\n",
        "    def insert(self, root, data):\n",
        "        if root is None:\n",
        "            return Node(data)\n",
        "        if data < root.data:\n",
        "            root.left = self.insert(root.left, data)\n",
        "        else:\n",
        "            root.right = self.insert(root.right, data)\n",
        "        return root\n",
        "\n",
        "# Membuat objek BST\n",
        "bst = BinarySearchTree()\n",
        "root = None\n",
        "\n",
        "# Menambahkan elemen dari data_list ke dalam BST\n",
        "data_list = (50, 30, 70, 20, 40, 60,  80)\n",
        "for value in data_list:\n",
        "    root = bst.insert(root, value)"
      ],
      "metadata": {
        "id": "1T2_lYQfTSCn"
      },
      "execution_count": null,
      "outputs": []
    },
    {
      "cell_type": "code",
      "source": [
        "def inorder(node):\n",
        "    if node:\n",
        "        inorder(node.left)\n",
        "        print(node.data, end=' ')\n",
        "        inorder(node.right)\n",
        "\n",
        "def preorder(node):\n",
        "    if node:\n",
        "        print(node.data, end=' ')\n",
        "        preorder(node.left)\n",
        "        preorder(node.right)\n",
        "\n",
        "def postorder(node):\n",
        "    if node:\n",
        "        postorder(node.left)\n",
        "        postorder(node.right)\n",
        "        print(node.data, end=' ')\n",
        "\n",
        "print(\"Inorder Traversal:\")\n",
        "inorder(root)\n",
        "print(\"\\nPreorder Traversal:\")\n",
        "preorder(root)\n",
        "print(\"\\nPostorder Traversal:\")\n",
        "postorder(root)"
      ],
      "metadata": {
        "colab": {
          "base_uri": "https://localhost:8080/"
        },
        "id": "OAJMPadqTiiP",
        "outputId": "4b7667b3-75b8-4fd1-f185-78e878f9ca88"
      },
      "execution_count": null,
      "outputs": [
        {
          "output_type": "stream",
          "name": "stdout",
          "text": [
            "Inorder Traversal:\n",
            "1 1 7 9 78 97 456 \n",
            "Preorder Traversal:\n",
            "456 1 1 78 7 9 97 \n",
            "Postorder Traversal:\n",
            "9 7 97 78 1 1 456 "
          ]
        }
      ]
    },
    {
      "cell_type": "code",
      "source": [
        "def search(node, key):\n",
        "    if node is None or node.data == key:\n",
        "        return node\n",
        "    if key < node.data:\n",
        "        return search(node.left, key)\n",
        "    return search(node.right, key)\n",
        "\n",
        "# Uji pencarian\n",
        "key = 60\n",
        "result = search(root, key)\n",
        "if result:\n",
        "    print(f\"{key} ditemukan dalam tree.\")\n",
        "else:\n",
        "    print(f\"{key} tidak ditemukan.\")\n",
        "\n",
        "key = 25\n",
        "result = search(root, key)\n",
        "if result:\n",
        "    print(f\"{key} ditemukan dalam tree.\")\n",
        "else:\n",
        "    print(f\"{key} tidak ditemukan.\")\n"
      ],
      "metadata": {
        "colab": {
          "base_uri": "https://localhost:8080/"
        },
        "id": "7zm7gYvaeGLc",
        "outputId": "378dd7f2-2a2b-4927-c814-59c9d0b862dd"
      },
      "execution_count": null,
      "outputs": [
        {
          "output_type": "stream",
          "name": "stdout",
          "text": [
            "60 tidak ditemukan.\n",
            "25 tidak ditemukan.\n"
          ]
        }
      ]
    },
    {
      "cell_type": "code",
      "source": [
        "# Struktur Tree berdasarkan identitas saya\n",
        "# Nama: ZURICH SABIL\n",
        "# NPM: 2430506057\n",
        "# Tanggal lahir: 01-01\n",
        "class Node:\n",
        "    def __init__(self, data):\n",
        "        self.data = data\n",
        "        self.left = None\n",
        "        self.right = None\n",
        "\n",
        "def inorder(node):\n",
        "    if node:\n",
        "        inorder(node.left)\n",
        "        print(node.data, end=' ')\n",
        "        inorder(node.right)\n",
        "\n",
        "root = Node(12)\n",
        "root.left = Node(4)\n",
        "root.right = Node(57)\n",
        "\n",
        "root.left.left = Node(1)\n",
        "root.right.right = Node(1)\n",
        "\n",
        "print(\"Hasil inorder traversal dari struktur Binary Tree:\")\n",
        "inorder(root)\n"
      ],
      "metadata": {
        "colab": {
          "base_uri": "https://localhost:8080/"
        },
        "id": "EBnVHlvmtooS",
        "outputId": "f0212f13-d3b0-421e-96f1-012c99cecd97"
      },
      "execution_count": null,
      "outputs": [
        {
          "output_type": "stream",
          "name": "stdout",
          "text": [
            "Hasil inorder traversal dari struktur Binary Tree:\n",
            "1 4 12 57 1 "
          ]
        }
      ]
    },
    {
      "cell_type": "code",
      "source": [],
      "metadata": {
        "id": "xypJVznntq2z"
      },
      "execution_count": null,
      "outputs": []
    }
  ]
}