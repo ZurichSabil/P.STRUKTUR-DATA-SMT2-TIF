{
  "nbformat": 4,
  "nbformat_minor": 0,
  "metadata": {
    "colab": {
      "provenance": [],
      "authorship_tag": "ABX9TyPCwuj6SOzQzwAWKscEFGe+",
      "include_colab_link": true
    },
    "kernelspec": {
      "name": "python3",
      "display_name": "Python 3"
    },
    "language_info": {
      "name": "python"
    }
  },
  "cells": [
    {
      "cell_type": "markdown",
      "metadata": {
        "id": "view-in-github",
        "colab_type": "text"
      },
      "source": [
        "<a href=\"https://colab.research.google.com/github/ZurichSabil/P.STRUKTUR-DATA-SMT2-TIF/blob/main/2430506057_TugasStrukdat_Stack.ipynb\" target=\"_parent\"><img src=\"https://colab.research.google.com/assets/colab-badge.svg\" alt=\"Open In Colab\"/></a>"
      ]
    },
    {
      "cell_type": "code",
      "execution_count": null,
      "metadata": {
        "colab": {
          "base_uri": "https://localhost:8080/"
        },
        "id": "i2f-r3AenIwe",
        "outputId": "68a2828f-cf40-4322-e078-a2e1c43811af"
      },
      "outputs": [
        {
          "output_type": "stream",
          "name": "stdout",
          "text": [
            "\n",
            "Pilihan: push (masukkan item), pop (keluarkan item), display (lihat isi gudang), kapasitas (lihat kapasitas gudang), keluar (keluar dari sistem)\n",
            "Masukkan perintah: push\n",
            "Masukkan nama item: roti\n",
            "'roti' telah ditambahkan ke gudang.\n",
            "\n",
            "Pilihan: push (masukkan item), pop (keluarkan item), display (lihat isi gudang), kapasitas (lihat kapasitas gudang), keluar (keluar dari sistem)\n",
            "Masukkan perintah: pop\n",
            "'roti' telah dihapus dari gudang.\n",
            "\n",
            "Pilihan: push (masukkan item), pop (keluarkan item), display (lihat isi gudang), kapasitas (lihat kapasitas gudang), keluar (keluar dari sistem)\n",
            "Masukkan perintah: push\n",
            "Masukkan nama item: Galon\n",
            "'Galon' telah ditambahkan ke gudang.\n",
            "\n",
            "Pilihan: push (masukkan item), pop (keluarkan item), display (lihat isi gudang), kapasitas (lihat kapasitas gudang), keluar (keluar dari sistem)\n",
            "Masukkan perintah: display\n",
            "Isi gudang saat ini (dari atas ke bawah):\n",
            "Galon\n",
            "\n",
            "Pilihan: push (masukkan item), pop (keluarkan item), display (lihat isi gudang), kapasitas (lihat kapasitas gudang), keluar (keluar dari sistem)\n",
            "Masukkan perintah: keluar\n",
            "Keluar dari sistem gudang.\n"
          ]
        }
      ],
      "source": [
        "class Gudang:\n",
        "    def __init__(self, kapasitas_maksimum):\n",
        "        self.stack = []\n",
        "        self.kapasitas_maksimum = kapasitas_maksimum\n",
        "\n",
        "    def push(self, item):\n",
        "        if len(self.stack) >= self.kapasitas_maksimum:\n",
        "            print(\"Gudang penuh! Tidak dapat menambahkan item lagi.\")\n",
        "        else:\n",
        "            self.stack.append(item)\n",
        "            print(f\"'{item}' telah ditambahkan ke gudang.\")\n",
        "\n",
        "    def pop(self):\n",
        "        if not self.stack:\n",
        "            print(\"Gudang kosong! Tidak ada item yang dapat dihapus.\")\n",
        "        else:\n",
        "            item_dihapus = self.stack.pop()\n",
        "            print(f\"'{item_dihapus}' telah dihapus dari gudang.\")\n",
        "\n",
        "    def display(self):\n",
        "        if not self.stack:\n",
        "            print(\"Gudang kosong.\")\n",
        "        else:\n",
        "            print(\"Isi gudang saat ini (dari atas ke bawah):\")\n",
        "            for item in reversed(self.stack):\n",
        "                print(item)\n",
        "\n",
        "def main():\n",
        "    kapasitas_maksimum = 57\n",
        "    gudang = Gudang(kapasitas_maksimum)\n",
        "\n",
        "    while True:\n",
        "        print(\"\\nPilihan: push (masukkan item), pop (keluarkan item), display (lihat isi gudang), kapasitas (lihat kapasitas gudang), keluar (keluar dari sistem)\")\n",
        "        pilihan = input(\"Masukkan perintah: \").strip().lower()\n",
        "\n",
        "        if pilihan == \"push\":\n",
        "            item = input(\"Masukkan nama item: \").strip()\n",
        "            gudang.push(item)\n",
        "        elif pilihan == \"pop\":\n",
        "            gudang.pop()\n",
        "        elif pilihan == \"display\":\n",
        "            gudang.display()\n",
        "        elif pilihan == \"kapasitas\":\n",
        "            print(f\"Kapasitas Maksimum Gudang: {gudang.kapasitas_maksimum} item\")\n",
        "        elif pilihan == \"keluar\":\n",
        "            print(\"Keluar dari sistem gudang.\")\n",
        "            break\n",
        "        else:\n",
        "            print(\"Perintah tidak valid! Silakan masukkan opsi yang benar.\")\n",
        "\n",
        "if __name__ == \"__main__\":\n",
        "    main()\n"
      ]
    },
    {
      "cell_type": "code",
      "source": [],
      "metadata": {
        "id": "FkZLXENQnJm1"
      },
      "execution_count": null,
      "outputs": []
    }
  ]
}