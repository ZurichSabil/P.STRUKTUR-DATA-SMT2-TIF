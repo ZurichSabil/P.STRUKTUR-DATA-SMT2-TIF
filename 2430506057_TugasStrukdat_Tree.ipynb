{
  "nbformat": 4,
  "nbformat_minor": 0,
  "metadata": {
    "colab": {
      "provenance": [],
      "authorship_tag": "ABX9TyOJ6NqGtlmKCDCJ44nF+HBU",
      "include_colab_link": true
    },
    "kernelspec": {
      "name": "python3",
      "display_name": "Python 3"
    },
    "language_info": {
      "name": "python"
    }
  },
  "cells": [
    {
      "cell_type": "markdown",
      "metadata": {
        "id": "view-in-github",
        "colab_type": "text"
      },
      "source": [
        "<a href=\"https://colab.research.google.com/github/ZurichSabil/P.STRUKTUR-DATA-SMT2-TIF/blob/main/2430506057_TugasStrukdat_Tree.ipynb\" target=\"_parent\"><img src=\"https://colab.research.google.com/assets/colab-badge.svg\" alt=\"Open In Colab\"/></a>"
      ]
    },
    {
      "cell_type": "markdown",
      "source": [
        "NOMOR **1**"
      ],
      "metadata": {
        "id": "A-Q3KfGEJjkR"
      }
    },
    {
      "cell_type": "code",
      "source": [
        "# Struktur Tree berdasarkan identitas saya\n",
        "# Nama: ZURICH SABIL\n",
        "# NPM: 2430506057\n",
        "# Tanggal lahir: 01-01\n",
        "class Node:\n",
        "    def __init__(self, data):\n",
        "        self.data = data\n",
        "        self.left = None\n",
        "        self.right = None\n",
        "\n",
        "def inorder(node):\n",
        "    if node:\n",
        "        inorder(node.left)\n",
        "        print(node.data, end=' ')\n",
        "        inorder(node.right)\n",
        "\n",
        "root = Node(12)\n",
        "root.left = Node(4)\n",
        "root.right = Node(57)\n",
        "\n",
        "root.left.left = Node(1)\n",
        "root.right.right = Node(1)\n",
        "\n",
        "print(\"Hasil inorder traversal dari struktur Binary Tree:\")\n",
        "inorder(root)\n"
      ],
      "metadata": {
        "colab": {
          "base_uri": "https://localhost:8080/"
        },
        "id": "EBnVHlvmtooS",
        "outputId": "16dcc3fc-6d8c-4957-d87d-813f99e280e3"
      },
      "execution_count": null,
      "outputs": [
        {
          "output_type": "stream",
          "name": "stdout",
          "text": [
            "Hasil inorder traversal dari struktur Binary Tree:\n",
            "1 4 12 57 1 "
          ]
        }
      ]
    },
    {
      "cell_type": "markdown",
      "source": [
        "**NOMOR 2**"
      ],
      "metadata": {
        "id": "tYn84wLrJdN-"
      }
    },
    {
      "cell_type": "code",
      "source": [
        "#Nama : Zurich Sabil\n",
        "#NPM : 2430506057\n",
        "#Tanggal Lahir : 01-01\n",
        "#Dua Angka Tambahan : 21\n",
        "# ASCII huruf pertama dan kedua dari \"Zurich\": Z = 90, u = 117\n",
        "\n",
        "class Node:\n",
        "    def __init__(self, data):\n",
        "        self.data = data\n",
        "        self.left = None\n",
        "        self.right = None\n",
        "\n",
        "class BinarySearchTree:\n",
        "    def __init__(self):\n",
        "        self.root = None\n",
        "\n",
        "    def insert(self, root, data):\n",
        "        if root is None:\n",
        "            return Node(data)\n",
        "        if data < root.data:\n",
        "            root.left = self.insert(root.left, data)\n",
        "        elif data > root.data:\n",
        "            root.right = self.insert(root.right, data)\n",
        "        return root\n",
        "\n",
        "    def inorder(self, node):\n",
        "        if node:\n",
        "            self.inorder(node.left)\n",
        "            print(node.data, end=' ')\n",
        "            self.inorder(node.right)\n",
        "\n",
        "    def preorder(self, node):\n",
        "        if node:\n",
        "            print(node.data, end=' ')\n",
        "            self.preorder(node.left)\n",
        "            self.preorder(node.right)\n",
        "\n",
        "    def postorder(self, node):\n",
        "        if node:\n",
        "            self.postorder(node.left)\n",
        "            self.postorder(node.right)\n",
        "            print(node.data, end=' ')\n",
        "\n",
        "    def search(self, node, key):\n",
        "        if node is None or node.data == key:\n",
        "            return node\n",
        "        if key < node.data:\n",
        "            return self.search(node.left, key)\n",
        "        return self.search(node.right, key)\n",
        "\n",
        "data_angka = [57, 1, 1, 90, 117, 2, 1]\n",
        "\n",
        "data_unik = list(set(data_angka))\n",
        "\n",
        "bst = BinarySearchTree()\n",
        "root = None\n",
        "for angka in data_unik:\n",
        "    root = bst.insert(root, angka)\n",
        "\n",
        "print(\"Hasil Inorder Traversal (left - root - right):\")\n",
        "bst.inorder(root)\n",
        "\n",
        "print(\"\\n\\nHasil Preorder Traversal (root - left - right):\")\n",
        "bst.preorder(root)\n",
        "\n",
        "print(\"\\n\\nHasil Postorder Traversal (left - kanan - right):\")\n",
        "bst.postorder(root)\n",
        "\n",
        "print(\"\\n\\n~~~~ PENCARIAN DATA ~~~~\")\n",
        "\n",
        "cari1 = 57\n",
        "hasil1 = bst.search(root, cari1)\n",
        "if hasil1:\n",
        "    print(f\"Angka {cari1} ditemukan dalam tree.\")\n",
        "else:\n",
        "    print(f\"Angka {cari1} tidak ditemukan.\")\n",
        "\n",
        "cari2 = 39\n",
        "hasil2 = bst.search(root, cari2)\n",
        "if hasil2:\n",
        "    print(f\"Angka {cari2} ditemukan dalam tree.\")\n",
        "else:\n",
        "    print(f\"Angka {cari2} tidak ditemukan.\")\n"
      ],
      "metadata": {
        "id": "8MPRDBihufMY",
        "colab": {
          "base_uri": "https://localhost:8080/"
        },
        "outputId": "85195962-6558-4034-c031-f7e09517de7b"
      },
      "execution_count": 1,
      "outputs": [
        {
          "output_type": "stream",
          "name": "stdout",
          "text": [
            "Hasil Inorder Traversal (left - root - right):\n",
            "1 2 57 90 117 \n",
            "\n",
            "Hasil Preorder Traversal (root - left - right):\n",
            "1 2 117 57 90 \n",
            "\n",
            "Hasil Postorder Traversal (left - kanan - right):\n",
            "90 57 117 2 1 \n",
            "\n",
            "~~~~ PENCARIAN DATA ~~~~\n",
            "Angka 57 ditemukan dalam tree.\n",
            "Angka 39 tidak ditemukan.\n"
          ]
        }
      ]
    }
  ]
}