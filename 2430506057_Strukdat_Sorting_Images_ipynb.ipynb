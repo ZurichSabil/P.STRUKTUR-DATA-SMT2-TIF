{
  "nbformat": 4,
  "nbformat_minor": 0,
  "metadata": {
    "colab": {
      "provenance": [],
      "authorship_tag": "ABX9TyMALtrrrYvLYIeV66Cf77rT",
      "include_colab_link": true
    },
    "kernelspec": {
      "name": "python3",
      "display_name": "Python 3"
    },
    "language_info": {
      "name": "python"
    }
  },
  "cells": [
    {
      "cell_type": "markdown",
      "metadata": {
        "id": "view-in-github",
        "colab_type": "text"
      },
      "source": [
        "<a href=\"https://colab.research.google.com/github/ZurichSabil/P.STRUKTUR-DATA-SMT2-TIF/blob/main/2430506057_Strukdat_Sorting_Images_ipynb.ipynb\" target=\"_parent\"><img src=\"https://colab.research.google.com/assets/colab-badge.svg\" alt=\"Open In Colab\"/></a>"
      ]
    },
    {
      "cell_type": "code",
      "execution_count": null,
      "metadata": {
        "colab": {
          "base_uri": "https://localhost:8080/"
        },
        "id": "AgbY2Dhz2Jo-",
        "outputId": "4ce62249-25ce-4e60-b655-a4d4618d6b37"
      },
      "outputs": [
        {
          "output_type": "stream",
          "name": "stdout",
          "text": [
            "Data sebelum sorting: [64, 34, 25, 12, 22, 11, 90]\n",
            "Data setelah Bubble Sort: [11, 12, 22, 25, 34, 64, 90]\n"
          ]
        }
      ],
      "source": [
        "def bubble_sort(arr):\n",
        "    n = len(arr)\n",
        "    for i in range(n - 1):\n",
        "        for j in range(n - i - 1):\n",
        "            if arr[j] > arr[j + 1]:\n",
        "                arr[j], arr[j + 1] = arr[j + 1], arr[j]\n",
        "    return arr\n",
        "\n",
        "# Contoh penggunaan\n",
        "data = [64, 34, 25, 12, 22, 11, 90]\n",
        "sorted_data = bubble_sort(data.copy())\n",
        "print(\"Data sebelum sorting:\", data)\n",
        "print(\"Data setelah Bubble Sort:\", sorted_data)"
      ]
    },
    {
      "cell_type": "code",
      "source": [
        "def selection_sort(arr):\n",
        "    n = len(arr)\n",
        "    for i in range(n - 1):\n",
        "        min_index = i\n",
        "        for j in range(i + 1, n):\n",
        "            if arr[j] < arr[min_index]:\n",
        "                min_index = j\n",
        "        arr[i], arr[min_index] = arr[min_index], arr[i]\n",
        "    return arr\n",
        "\n",
        "# Contoh penggunaan\n",
        "data = [64, 25, 12, 22, 11]\n",
        "sorted_data = selection_sort(data.copy())\n",
        "print(\"Data sebelum sorting:\", data)\n",
        "print(\"Data setelah Selection Sort:\", sorted_data)"
      ],
      "metadata": {
        "colab": {
          "base_uri": "https://localhost:8080/"
        },
        "id": "a21Uk3JM2Pya",
        "outputId": "3a4225f2-6f79-4f46-e90e-97dba0039f33"
      },
      "execution_count": null,
      "outputs": [
        {
          "output_type": "stream",
          "name": "stdout",
          "text": [
            "Data sebelum sorting: [64, 25, 12, 22, 11]\n",
            "Data setelah Selection Sort: [11, 12, 22, 25, 64]\n"
          ]
        }
      ]
    },
    {
      "cell_type": "code",
      "source": [
        "def insertion_sort(arr):\n",
        "    n = len(arr)\n",
        "    for i in range(1, n):\n",
        "        key = arr[i]\n",
        "        j = i - 1\n",
        "        while j >= 0 and arr[j] > key:\n",
        "            arr[j + 1] = arr[j]\n",
        "            j -= 1\n",
        "        arr[j + 1] = key\n",
        "    return arr\n",
        "\n",
        "# Contoh penggunaan\n",
        "data = [64, 34, 25, 12, 22, 11, 90]\n",
        "sorted_data = insertion_sort(data.copy())\n",
        "print(\"Data sebelum sorting:\", data)\n",
        "print(\"Data setelah Insertion Sort:\", sorted_data)"
      ],
      "metadata": {
        "id": "9T1K9utX2lgs",
        "colab": {
          "base_uri": "https://localhost:8080/"
        },
        "outputId": "6f7a2085-4212-419c-9f18-f8080980d9b9"
      },
      "execution_count": null,
      "outputs": [
        {
          "output_type": "stream",
          "name": "stdout",
          "text": [
            "Data sebelum sorting: [64, 34, 25, 12, 22, 11, 90]\n",
            "Data setelah Insertion Sort: [11, 12, 22, 25, 34, 64, 90]\n"
          ]
        }
      ]
    },
    {
      "cell_type": "code",
      "source": [
        "def merge_sort(arr):\n",
        "    if len(arr) > 1:\n",
        "        mid = len(arr) // 2\n",
        "        left_half = arr[:mid]\n",
        "        right_half = arr[mid:]\n",
        "\n",
        "        merge_sort(left_half)\n",
        "        merge_sort(right_half)\n",
        "\n",
        "        i = j = k = 0\n",
        "\n",
        "        while i < len(left_half) and j < len(right_half):\n",
        "            if left_half[i] < right_half[j]:\n",
        "                arr[k] = left_half[i]\n",
        "                i += 1\n",
        "            else:\n",
        "                arr[k] = right_half[j]\n",
        "                j += 1\n",
        "            k += 1\n",
        "\n",
        "        while i < len(left_half):\n",
        "            arr[k] = left_half[i]\n",
        "            i += 1\n",
        "            k += 1\n",
        "\n",
        "        while j < len(right_half):\n",
        "            arr[k] = right_half[j]\n",
        "            j += 1\n",
        "            k += 1\n",
        "\n",
        "    return arr\n",
        "\n",
        "# Contoh penggunaan\n",
        "data = [64, 25, 12, 22, 11]\n",
        "sorted_data = merge_sort(data.copy())\n",
        "print(\"Data sebelum sorting:\", data)\n",
        "print(\"Data setelah Merge Sort:\", sorted_data)"
      ],
      "metadata": {
        "colab": {
          "base_uri": "https://localhost:8080/"
        },
        "id": "79X2ZLwTkjCC",
        "outputId": "53c2dbc7-9c9b-4e91-9c9a-db9dd85bf40b"
      },
      "execution_count": null,
      "outputs": [
        {
          "output_type": "stream",
          "name": "stdout",
          "text": [
            "Data sebelum sorting: [64, 25, 12, 22, 11]\n",
            "Data setelah Merge Sort: [11, 12, 22, 25, 64]\n"
          ]
        }
      ]
    },
    {
      "cell_type": "code",
      "source": [
        "def quick_sort(arr):\n",
        "    if len(arr) <= 1:\n",
        "        return arr\n",
        "\n",
        "    pivot = arr[len(arr) // 2]\n",
        "    left = [x for x in arr if x < pivot]\n",
        "    middle = [x for x in arr if x == pivot]\n",
        "    right = [x for x in arr if x > pivot]\n",
        "\n",
        "    return quick_sort(left) + middle + quick_sort(right)\n",
        "\n",
        "# Contoh penggunaan\n",
        "data = [64, 25, 12, 22, 11]\n",
        "sorted_data = quick_sort(data.copy())\n",
        "print(\"Data sebelum sorting:\", data)\n",
        "print(\"Data setelah Quick Sort:\", sorted_data)"
      ],
      "metadata": {
        "colab": {
          "base_uri": "https://localhost:8080/"
        },
        "id": "3ARRcCcFkugt",
        "outputId": "d69e12d5-b060-4538-b68a-fc3c35f81b58"
      },
      "execution_count": null,
      "outputs": [
        {
          "output_type": "stream",
          "name": "stdout",
          "text": [
            "Data sebelum sorting: [64, 25, 12, 22, 11]\n",
            "Data setelah Quick Sort: [11, 12, 22, 25, 64]\n"
          ]
        }
      ]
    }
  ]
}