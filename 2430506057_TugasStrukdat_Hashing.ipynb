{
  "nbformat": 4,
  "nbformat_minor": 0,
  "metadata": {
    "colab": {
      "provenance": [],
      "authorship_tag": "ABX9TyMuCWcGsVt8iDSRpupvYdzf",
      "include_colab_link": true
    },
    "kernelspec": {
      "name": "python3",
      "display_name": "Python 3"
    },
    "language_info": {
      "name": "python"
    }
  },
  "cells": [
    {
      "cell_type": "markdown",
      "metadata": {
        "id": "view-in-github",
        "colab_type": "text"
      },
      "source": [
        "<a href=\"https://colab.research.google.com/github/ZurichSabil/P.STRUKTUR-DATA-SMT2-TIF/blob/main/2430506057_TugasStrukdat_Hashing.ipynb\" target=\"_parent\"><img src=\"https://colab.research.google.com/assets/colab-badge.svg\" alt=\"Open In Colab\"/></a>"
      ]
    },
    {
      "cell_type": "markdown",
      "source": [
        "NOMOR **1**"
      ],
      "metadata": {
        "id": "SWaolSRDXzDM"
      }
    },
    {
      "cell_type": "code",
      "execution_count": null,
      "metadata": {
        "colab": {
          "base_uri": "https://localhost:8080/"
        },
        "id": "suGK15JtUbM5",
        "outputId": "92eccda7-186d-4a45-84b8-70d909051158"
      },
      "outputs": [
        {
          "output_type": "stream",
          "name": "stdout",
          "text": [
            "Index 0: ('E', 50)\n",
            "Index 1: ('B', 20)\n",
            "Index 2: ('C', 30)\n",
            "Index 3: ('A', 10)\n",
            "Index 4: ('D', 40)\n"
          ]
        }
      ],
      "source": [
        "class LinearProbingHashTable:\n",
        "    def __init__(self, size):\n",
        "        self.size = size\n",
        "        self.table = [None] * size\n",
        "\n",
        "    def hash_function(self, key):\n",
        "        return hash(key) % self.size\n",
        "\n",
        "    def insert(self, key, value):\n",
        "        index = self.hash_function(key)\n",
        "        original_index = index\n",
        "\n",
        "        while self.table[index] is not None:\n",
        "            if self.table[index][0] == key:\n",
        "                break\n",
        "            index = (index + 1) % self.size\n",
        "            if index == original_index:\n",
        "                raise Exception(\"Hash table penuh\")\n",
        "\n",
        "        self.table[index] = (key, value)\n",
        "\n",
        "    def display(self):\n",
        "        for i, item in enumerate(self.table):\n",
        "            print(f\"Index {i}: {item}\")\n",
        "\n",
        "ht = LinearProbingHashTable(5)\n",
        "data = {\"A\": 10, \"B\": 20, \"C\": 30, \"D\": 40, \"E\": 50}\n",
        "\n",
        "for k, v in data.items():\n",
        "    ht.insert(k, v)\n",
        "\n",
        "ht.display()\n"
      ]
    },
    {
      "cell_type": "markdown",
      "source": [
        "NOMOR **2**"
      ],
      "metadata": {
        "id": "8_PSOVnMXuPe"
      }
    },
    {
      "cell_type": "code",
      "source": [
        "class ChainingHashTable:\n",
        "    def __init__(self, size):\n",
        "        self.size = size\n",
        "        self.table = [[] for _ in range(size)]\n",
        "\n",
        "    def hash_function(self, key):\n",
        "        return hash(key) % self.size\n",
        "\n",
        "    def insert(self, key, value):\n",
        "        index = self.hash_function(key)\n",
        "        for i, (k, v) in enumerate(self.table[index]):\n",
        "            if k == key:\n",
        "                self.table[index][i] = (key, value)\n",
        "                return\n",
        "        self.table[index].append((key, value))\n",
        "\n",
        "    def display(self):\n",
        "        for i, bucket in enumerate(self.table):\n",
        "            print(f\"Index {i}: {bucket}\")\n",
        "\n",
        "ht = ChainingHashTable(3)\n",
        "data = {\n",
        "    \"apel\": 100,\n",
        "    \"melon\": 200,\n",
        "    \"lemon\": 300,\n",
        "    \"pisang\": 400\n",
        "}\n",
        "\n",
        "for k, v in data.items():\n",
        "    ht.insert(k, v)\n",
        "\n",
        "ht.display()\n"
      ],
      "metadata": {
        "colab": {
          "base_uri": "https://localhost:8080/"
        },
        "id": "0JJAP9zhXrlp",
        "outputId": "25c6fbfc-4712-43f9-d719-24ae5d29fbce"
      },
      "execution_count": null,
      "outputs": [
        {
          "output_type": "stream",
          "name": "stdout",
          "text": [
            "Index 0: []\n",
            "Index 1: [('lemon', 300)]\n",
            "Index 2: [('apel', 100), ('melon', 200), ('pisang', 400)]\n"
          ]
        }
      ]
    }
  ]
}