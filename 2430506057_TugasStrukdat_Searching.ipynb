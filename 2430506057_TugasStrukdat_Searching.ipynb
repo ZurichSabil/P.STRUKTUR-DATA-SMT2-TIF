{
  "nbformat": 4,
  "nbformat_minor": 0,
  "metadata": {
    "colab": {
      "provenance": [],
      "authorship_tag": "ABX9TyNehZKDDQRnh9xnWMtSvdlm",
      "include_colab_link": true
    },
    "kernelspec": {
      "name": "python3",
      "display_name": "Python 3"
    },
    "language_info": {
      "name": "python"
    }
  },
  "cells": [
    {
      "cell_type": "markdown",
      "metadata": {
        "id": "view-in-github",
        "colab_type": "text"
      },
      "source": [
        "<a href=\"https://colab.research.google.com/github/ZurichSabil/P.STRUKTUR-DATA-SMT2-TIF/blob/main/2430506057_TugasStrukdat_Searching.ipynb\" target=\"_parent\"><img src=\"https://colab.research.google.com/assets/colab-badge.svg\" alt=\"Open In Colab\"/></a>"
      ]
    },
    {
      "cell_type": "code",
      "execution_count": 8,
      "metadata": {
        "colab": {
          "base_uri": "https://localhost:8080/"
        },
        "id": "rXp92whco7Je",
        "outputId": "fb2c5729-8c07-4e1e-ea0e-f45dba665149"
      },
      "outputs": [
        {
          "output_type": "stream",
          "name": "stdout",
          "text": [
            "Hasil Pencarian:\n",
            "Linear Search: Indeks 50, Perbandingan 51\n",
            "Binary Search: Indeks 50, Perbandingan 6\n",
            "Jump Search: Indeks 50, Perbandingan 6\n"
          ]
        }
      ],
      "source": [
        "import random\n",
        "import math\n",
        "\n",
        "def linear_search(arr, target):\n",
        "    perbandingan = 0\n",
        "    for i in range(len(arr)):\n",
        "        perbandingan += 1\n",
        "        if arr[i] == target:\n",
        "            return i, perbandingan\n",
        "    return -1, perbandingan\n",
        "\n",
        "def binary_search(arr, target):\n",
        "    rendah, tinggi = 0, len(arr) - 1\n",
        "    perbandingan = 0\n",
        "\n",
        "    while rendah <= tinggi:\n",
        "        tengah = (rendah + tinggi) // 2\n",
        "        perbandingan += 1\n",
        "        if arr[tengah] == target:\n",
        "            return tengah, perbandingan\n",
        "        elif arr[tengah] < target:\n",
        "            rendah = tengah + 1\n",
        "        else:\n",
        "            tinggi = tengah - 1\n",
        "\n",
        "    return -1, perbandingan\n",
        "\n",
        "def jump_search(arr, target):\n",
        "    n = len(arr)\n",
        "    langkah = int(math.sqrt(n))\n",
        "    sebelumnya, perbandingan = 0, 0\n",
        "\n",
        "    while sebelumnya < n and arr[min(langkah, n) - 1] < target:\n",
        "        perbandingan += 1\n",
        "        sebelumnya = langkah\n",
        "        langkah += int(math.sqrt(n))\n",
        "        if sebelumnya >= n:\n",
        "            return -1, perbandingan\n",
        "\n",
        "    for i in range(sebelumnya, min(langkah, n)):\n",
        "        perbandingan += 1\n",
        "        if arr[i] == target:\n",
        "            return i, perbandingan\n",
        "\n",
        "    return -1, perbandingan\n",
        "\n",
        "arr = sorted(random.sample(range(1, 1001), 100))\n",
        "\n",
        "target = arr[len(arr) // 2]\n",
        "\n",
        "hasil_linear, perbandingan_linear = linear_search(arr, target)\n",
        "hasil_biner, perbandingan_biner = binary_search(arr, target)\n",
        "hasil_jump, perbandingan_jump = jump_search(arr, target)\n",
        "\n",
        "\n",
        "print(\"Hasil Pencarian:\")\n",
        "print(f\"Linear Search: Indeks {hasil_linear}, Perbandingan {perbandingan_linear}\")\n",
        "print(f\"Binary Search: Indeks {hasil_biner}, Perbandingan {perbandingan_biner}\")\n",
        "print(f\"Jump Search: Indeks {hasil_jump}, Perbandingan {perbandingan_jump}\")\n"
      ]
    },
    {
      "cell_type": "code",
      "source": [],
      "metadata": {
        "id": "GVY7stM5qL4I"
      },
      "execution_count": null,
      "outputs": []
    }
  ]
}